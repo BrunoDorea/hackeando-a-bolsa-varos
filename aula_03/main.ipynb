{
 "cells": [
  {
   "cell_type": "markdown",
   "metadata": {},
   "source": [
    "# 3 - Conectando o modelo na bolsa e automatizando as compras e vendas"
   ]
  },
  {
   "cell_type": "markdown",
   "metadata": {},
   "source": [
    "## Passo a passo\n",
    "\n",
    "- 1 - rodar código da aula anterior\n",
    "- 2 - baixar e configurar o MT5\n",
    "- 3 - importar as bibliotecas\n",
    "- 4 - inicializar o MT5\n",
    "- 5 - explorar a documentação da biblioteca do MT5\n",
    "- 6 - configurar o dicionario da ordem e comprar ações"
   ]
  },
  {
   "cell_type": "markdown",
   "metadata": {},
   "source": [
    "### 1 - rodar código da aula anterior"
   ]
  },
  {
   "cell_type": "code",
   "execution_count": null,
   "metadata": {},
   "outputs": [],
   "source": [
    "# comando para executar o script '../aula_02/main.ipynb'"
   ]
  },
  {
   "cell_type": "markdown",
   "metadata": {},
   "source": [
    "### 2 - baixar e configurar o MT5\n",
    "\n",
    "corretora é de uma forma.\n",
    "conta demo, sempre."
   ]
  },
  {
   "cell_type": "markdown",
   "metadata": {},
   "source": [
    "### 3 - importar as bibliotecas"
   ]
  },
  {
   "cell_type": "code",
   "execution_count": null,
   "metadata": {},
   "outputs": [],
   "source": [
    "# %pip install MetaTrader5"
   ]
  },
  {
   "cell_type": "code",
   "execution_count": null,
   "metadata": {},
   "outputs": [],
   "source": [
    "import MetaTrader5 as mt5"
   ]
  },
  {
   "cell_type": "markdown",
   "metadata": {},
   "source": [
    "### 4 - inicializar o MT5"
   ]
  },
  {
   "cell_type": "code",
   "execution_count": null,
   "metadata": {},
   "outputs": [],
   "source": [
    "mt5.initialize()"
   ]
  },
  {
   "cell_type": "markdown",
   "metadata": {},
   "source": [
    "### 5 - explorar a documentação da biblioteca do MT5\n",
    "\n",
    "https://www.mql5.com/en/docs/python_metatrader5"
   ]
  },
  {
   "cell_type": "code",
   "execution_count": null,
   "metadata": {},
   "outputs": [],
   "source": [
    "ticker = 'WEGE3'\n",
    "info_acoes = mt5.symbol_info(ticker)\n",
    "preco = mt5.symbol_info_tick(ticker)"
   ]
  },
  {
   "cell_type": "code",
   "execution_count": null,
   "metadata": {},
   "outputs": [],
   "source": [
    "info_acao.ask"
   ]
  },
  {
   "cell_type": "markdown",
   "metadata": {},
   "source": [
    "### 6 - configurar o dicionario da ordem e comprar ações"
   ]
  },
  {
   "cell_type": "code",
   "execution_count": null,
   "metadata": {},
   "outputs": [],
   "source": [
    "for ticker in tickers:\n",
    "\n",
    "    print(ticker)\n",
    "\n",
    "    info_acoes = mt5.symbol_info(ticker)\n",
    "    mt5.symbol_select(ticker)\n",
    "    tick_min = mt5.symbol_info(ticker).point\n",
    "    preco = mt5.symbol_info_tick(ticker).ask\n",
    "    quantidade = 100.0\n",
    "    ordem_compra = {\n",
    "        \"action\": mt5.TRADE_ACTION_DEAL,\n",
    "        \"symbol\": ticker,\n",
    "        \"volume\": quantidade,\n",
    "        \"type\": mt5.ORDER_TYPE_BUY,\n",
    "        \"price\": preco,\n",
    "        \"magic\": 1,\n",
    "        \"comment\": \"Hackeando a bolsa\",\n",
    "        \"type_time\": mt5.ORDER_TIME_DAY,\n",
    "        \"type_filling\": mt5.ORDER_FILLING_RETURN,\n",
    "    }\n",
    "    result_compra = mt5.order_send(ordem_compra)\n",
    "    print(result_compra)"
   ]
  }
 ],
 "metadata": {
  "kernelspec": {
   "display_name": "Python 3",
   "language": "python",
   "name": "python3"
  },
  "language_info": {
   "codemirror_mode": {
    "name": "ipython",
    "version": 3
   },
   "file_extension": ".py",
   "mimetype": "text/x-python",
   "name": "python",
   "nbconvert_exporter": "python",
   "pygments_lexer": "ipython3",
   "version": "3.11.0"
  },
  "orig_nbformat": 4
 },
 "nbformat": 4,
 "nbformat_minor": 2
}
